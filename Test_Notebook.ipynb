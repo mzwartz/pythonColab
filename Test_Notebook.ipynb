{
  "nbformat": 4,
  "nbformat_minor": 0,
  "metadata": {
    "colab": {
      "name": "Test Notebook",
      "provenance": [],
      "authorship_tag": "ABX9TyOnPmSpbximAiiT34a3gH8e",
      "include_colab_link": true
    },
    "kernelspec": {
      "name": "python3",
      "display_name": "Python 3"
    },
    "language_info": {
      "name": "python"
    }
  },
  "cells": [
    {
      "cell_type": "markdown",
      "metadata": {
        "id": "view-in-github",
        "colab_type": "text"
      },
      "source": [
        "<a href=\"https://colab.research.google.com/github/mzwartz/pythonColab/blob/main/Test_Notebook.ipynb\" target=\"_parent\"><img src=\"https://colab.research.google.com/assets/colab-badge.svg\" alt=\"Open In Colab\"/></a>"
      ]
    },
    {
      "cell_type": "code",
      "execution_count": 1,
      "metadata": {
        "colab": {
          "base_uri": "https://localhost:8080/"
        },
        "id": "uHD1j7iMJpTK",
        "outputId": "1b5f3cad-70d2-4655-e72f-6d3e7aa4d3b2"
      },
      "outputs": [
        {
          "output_type": "stream",
          "name": "stdout",
          "text": [
            "hello world\n"
          ]
        }
      ],
      "source": [
        "print(\"hello world\")"
      ]
    },
    {
      "cell_type": "markdown",
      "source": [
        "This is a test notebook for me to play in"
      ],
      "metadata": {
        "id": "ncHrh8QCNSHW"
      }
    },
    {
      "cell_type": "code",
      "source": [
        "x = 10 "
      ],
      "metadata": {
        "id": "WEcDyBEcL6DX"
      },
      "execution_count": 2,
      "outputs": []
    },
    {
      "cell_type": "code",
      "source": [
        ""
      ],
      "metadata": {
        "id": "HJxnoHwKL_1-"
      },
      "execution_count": null,
      "outputs": []
    },
    {
      "cell_type": "markdown",
      "source": [
        "Here is another update. I did nothing new. "
      ],
      "metadata": {
        "id": "mG7aqzpnPtb6"
      }
    }
  ]
}