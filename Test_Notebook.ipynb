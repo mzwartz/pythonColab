{
  "nbformat": 4,
  "nbformat_minor": 0,
  "metadata": {
    "colab": {
      "name": "Test Notebook",
      "provenance": [],
      "toc_visible": true,
      "authorship_tag": "ABX9TyN72xPpy2f1Hkn0d2EosqPC",
      "include_colab_link": true
    },
    "kernelspec": {
      "name": "python3",
      "display_name": "Python 3"
    },
    "language_info": {
      "name": "python"
    }
  },
  "cells": [
    {
      "cell_type": "markdown",
      "metadata": {
        "id": "view-in-github",
        "colab_type": "text"
      },
      "source": [
        "<a href=\"https://colab.research.google.com/github/mzwartz/pythonColab/blob/main/Test_Notebook.ipynb\" target=\"_parent\"><img src=\"https://colab.research.google.com/assets/colab-badge.svg\" alt=\"Open In Colab\"/></a>"
      ]
    },
    {
      "cell_type": "markdown",
      "source": [
        "# A whole new world\n",
        "A wonderous place I never knew\n"
      ],
      "metadata": {
        "id": "5o-v0t_KQgA7"
      }
    },
    {
      "cell_type": "code",
      "execution_count": 6,
      "metadata": {
        "id": "uHD1j7iMJpTK"
      },
      "outputs": [],
      "source": [
        "movie1 = [\"Aladin\", \"Lion King\"]"
      ]
    },
    {
      "cell_type": "markdown",
      "source": [
        "I put the disney movies above. It should probably be an array. "
      ],
      "metadata": {
        "id": "mG7aqzpnPtb6"
      }
    },
    {
      "cell_type": "code",
      "source": [
        "print(movie1)\n",
        "print(movie2)"
      ],
      "metadata": {
        "colab": {
          "base_uri": "https://localhost:8080/"
        },
        "id": "kU267tzXTRXi",
        "outputId": "f071d52c-ce15-40ec-9c3d-dfc256fd5ad1"
      },
      "execution_count": 12,
      "outputs": [
        {
          "output_type": "stream",
          "name": "stdout",
          "text": [
            "Aladin\n",
            "Lion King\n"
          ]
        }
      ]
    },
    {
      "cell_type": "code",
      "source": [
        ""
      ],
      "metadata": {
        "id": "D0qtIpsrTiKk"
      },
      "execution_count": null,
      "outputs": []
    }
  ]
}